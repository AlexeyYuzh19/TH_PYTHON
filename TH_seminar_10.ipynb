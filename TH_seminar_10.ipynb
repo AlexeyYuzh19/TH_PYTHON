{
  "nbformat": 4,
  "nbformat_minor": 0,
  "metadata": {
    "colab": {
      "provenance": [],
      "authorship_tag": "ABX9TyOindn9dtGE8Ezi3ktZiO43",
      "include_colab_link": true
    },
    "kernelspec": {
      "name": "python3",
      "display_name": "Python 3"
    },
    "language_info": {
      "name": "python"
    }
  },
  "cells": [
    {
      "cell_type": "markdown",
      "metadata": {
        "id": "view-in-github",
        "colab_type": "text"
      },
      "source": [
        "<a href=\"https://colab.research.google.com/github/AlexeyYuzh19/TH_PYTHON/blob/main/TH_seminar_10.ipynb\" target=\"_parent\"><img src=\"https://colab.research.google.com/assets/colab-badge.svg\" alt=\"Open In Colab\"/></a>"
      ]
    },
    {
      "cell_type": "markdown",
      "source": [
        "**Задача 44**:<br>В ячейке ниже представлен код генерирующий DataFrame, которая состоит всего из 1 столбца. Ваша задача перевести его в one hot вид.<br>Сможете ли вы это сделать без get_dummies?\n",
        "\n",
        "import random<br>\n",
        "lst = ['robot'] * 10<br>\n",
        "lst += ['human'] * 10<br>\n",
        "random.shuffle(lst)<br>\n",
        "data = pd.DataFrame({'whoAmI':lst})<br>\n",
        "data.head()<br>"
      ],
      "metadata": {
        "id": "QHM42ygVpdAI"
      }
    },
    {
      "cell_type": "code",
      "source": [
        "import pandas as pd"
      ],
      "metadata": {
        "id": "Dserrtd-qm6M"
      },
      "execution_count": null,
      "outputs": []
    },
    {
      "cell_type": "code",
      "source": [
        "import random"
      ],
      "metadata": {
        "id": "yPxTWqjIESje"
      },
      "execution_count": null,
      "outputs": []
    },
    {
      "cell_type": "code",
      "source": [
        "lst = ['robot'] * 10\n",
        "lst += ['human'] * 10\n",
        "random.shuffle(lst)\n",
        "data = pd.DataFrame({'whoAmI':lst})"
      ],
      "metadata": {
        "id": "2RzVq0FUEVaM"
      },
      "execution_count": null,
      "outputs": []
    },
    {
      "cell_type": "code",
      "source": [
        "data"
      ],
      "metadata": {
        "id": "IAEeNl4dg7MC"
      },
      "execution_count": null,
      "outputs": []
    },
    {
      "cell_type": "code",
      "source": [
        "data.head()"
      ],
      "metadata": {
        "id": "nVDlWDiSEc20"
      },
      "execution_count": null,
      "outputs": []
    },
    {
      "cell_type": "code",
      "source": [
        "data.head(10)"
      ],
      "metadata": {
        "id": "ZktIwCY_gWtp"
      },
      "execution_count": null,
      "outputs": []
    },
    {
      "cell_type": "code",
      "source": [
        "data.tail(10)"
      ],
      "metadata": {
        "id": "JC6rIIeEhIM4"
      },
      "execution_count": null,
      "outputs": []
    },
    {
      "cell_type": "code",
      "source": [
        "# One hot кодирование с помощью get_dummies"
      ],
      "metadata": {
        "id": "t112dQ6IFgrM"
      },
      "execution_count": null,
      "outputs": []
    },
    {
      "cell_type": "code",
      "source": [
        "one_hot = pd.get_dummies(data)"
      ],
      "metadata": {
        "id": "CMo1QbGSFg0s"
      },
      "execution_count": null,
      "outputs": []
    },
    {
      "cell_type": "code",
      "source": [
        "one_hot"
      ],
      "metadata": {
        "id": "SsdTgGauFg3s"
      },
      "execution_count": null,
      "outputs": []
    },
    {
      "cell_type": "code",
      "source": [
        "one_hot.head(10)"
      ],
      "metadata": {
        "id": "q0Yk3XyDgoCJ"
      },
      "execution_count": null,
      "outputs": []
    },
    {
      "cell_type": "code",
      "source": [
        "one_hot.tail(10)"
      ],
      "metadata": {
        "id": "971TtsN1hS16"
      },
      "execution_count": null,
      "outputs": []
    },
    {
      "cell_type": "code",
      "source": [
        "# One hot кодирование с использованием группировки данных"
      ],
      "metadata": {
        "id": "45Pf1SBWFg6U"
      },
      "execution_count": null,
      "outputs": []
    },
    {
      "cell_type": "code",
      "source": [
        "one_hot_grouped = pd.get_dummies(data['whoAmI']).groupby(data.index).sum()"
      ],
      "metadata": {
        "id": "cxHO1QgQGGyN"
      },
      "execution_count": null,
      "outputs": []
    },
    {
      "cell_type": "code",
      "source": [
        "one_hot_grouped.head()"
      ],
      "metadata": {
        "id": "SQN-tsUfGG-M"
      },
      "execution_count": null,
      "outputs": []
    },
    {
      "cell_type": "code",
      "source": [
        "one_hot_grouped.head(20)"
      ],
      "metadata": {
        "id": "2fHhwmTMhbgI"
      },
      "execution_count": null,
      "outputs": []
    },
    {
      "cell_type": "code",
      "source": [
        "# Делаем без get_dummies"
      ],
      "metadata": {
        "id": "MPLSOu77ib2K"
      },
      "execution_count": null,
      "outputs": []
    },
    {
      "cell_type": "code",
      "source": [
        "# извлекаем уникальные значения, cоздаем словарь, итерация по уникальным значениям - заполняем словарь"
      ],
      "metadata": {
        "id": "uEVqij9KiiAh"
      },
      "execution_count": null,
      "outputs": []
    },
    {
      "cell_type": "code",
      "source": [
        "unique_values = list(data['whoAmI'].unique())\n",
        "one_hot_dict = {value: [1 if row == value else 0 for row in data['whoAmI']] for value in unique_values[::-1]}"
      ],
      "metadata": {
        "id": "KWd0SPkCiysJ"
      },
      "execution_count": null,
      "outputs": []
    },
    {
      "cell_type": "code",
      "source": [
        "# cоздаем новый DataFrame в one hot виде"
      ],
      "metadata": {
        "id": "8KueE8fWiy7g"
      },
      "execution_count": null,
      "outputs": []
    },
    {
      "cell_type": "code",
      "source": [
        "one_hot_df = pd.DataFrame(one_hot_dict)"
      ],
      "metadata": {
        "id": "_nuBcE_kiy-5"
      },
      "execution_count": null,
      "outputs": []
    },
    {
      "cell_type": "code",
      "source": [
        "one_hot_df.head()"
      ],
      "metadata": {
        "id": "Keg6ZUAdlCK6"
      },
      "execution_count": null,
      "outputs": []
    },
    {
      "cell_type": "code",
      "source": [
        "one_hot_df.head(20)"
      ],
      "metadata": {
        "id": "7rEWGApMrnTI"
      },
      "execution_count": null,
      "outputs": []
    },
    {
      "cell_type": "code",
      "source": [
        "# конкатенация исходного DataFrame и нового DataFrame - сверяем результат"
      ],
      "metadata": {
        "id": "YtpobMBnkLhg"
      },
      "execution_count": null,
      "outputs": []
    },
    {
      "cell_type": "code",
      "source": [
        "data_con = pd.concat([data, one_hot_df], axis=1)"
      ],
      "metadata": {
        "id": "bblSyO0_kaA7"
      },
      "execution_count": null,
      "outputs": []
    },
    {
      "cell_type": "code",
      "source": [
        "data_con.head()"
      ],
      "metadata": {
        "id": "rUa-xWgnkd06"
      },
      "execution_count": null,
      "outputs": []
    },
    {
      "cell_type": "code",
      "source": [
        "data_con.head(20)"
      ],
      "metadata": {
        "id": "0PJ2bNBIk1Wk"
      },
      "execution_count": null,
      "outputs": []
    }
  ]
}