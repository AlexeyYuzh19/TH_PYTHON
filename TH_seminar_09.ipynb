{
  "nbformat": 4,
  "nbformat_minor": 0,
  "metadata": {
    "colab": {
      "provenance": [],
      "authorship_tag": "ABX9TyOX8JFJK38VxmfgqZ88Eigk",
      "include_colab_link": true
    },
    "kernelspec": {
      "name": "python3",
      "display_name": "Python 3"
    },
    "language_info": {
      "name": "python"
    }
  },
  "cells": [
    {
      "cell_type": "markdown",
      "metadata": {
        "id": "view-in-github",
        "colab_type": "text"
      },
      "source": [
        "<a href=\"https://colab.research.google.com/github/AlexeyYuzh19/TH_PYTHON/blob/main/TH_seminar_09.ipynb\" target=\"_parent\"><img src=\"https://colab.research.google.com/assets/colab-badge.svg\" alt=\"Open In Colab\"/></a>"
      ]
    },
    {
      "cell_type": "markdown",
      "source": [
        "**9.1[40]**: Работа в Google Colab.<br>Файл california_housing_train.csv, который находится в папке sample_data<br>\n",
        "Для домов, где кол-во людей от 0 до 500 (population) вывести информацию о цене дома(median_house_value):<br>\n",
        "максимальное значение<br>\n",
        "минимальное значение<br>\n",
        "среднее<br>\n",
        "медиану"
      ],
      "metadata": {
        "id": "QHM42ygVpdAI"
      }
    },
    {
      "cell_type": "code",
      "source": [
        "import pandas as pd"
      ],
      "metadata": {
        "id": "Dserrtd-qm6M"
      },
      "execution_count": null,
      "outputs": []
    },
    {
      "cell_type": "code",
      "source": [
        "df = pd.read_csv('sample_data/california_housing_train.csv')"
      ],
      "metadata": {
        "id": "eVnRlyBgq9I6"
      },
      "execution_count": null,
      "outputs": []
    },
    {
      "cell_type": "code",
      "source": [
        "# вывод DataFrame полностью"
      ],
      "metadata": {
        "id": "OxNC1g0FawOv"
      },
      "execution_count": null,
      "outputs": []
    },
    {
      "cell_type": "code",
      "source": [
        "df"
      ],
      "metadata": {
        "id": "Wb0z7si3w1oB"
      },
      "execution_count": null,
      "outputs": []
    },
    {
      "cell_type": "code",
      "source": [
        "# методы DataFrame - вывод первых (последних) пять строк (по умолчанию) и заданное - по переданному аргументу"
      ],
      "metadata": {
        "id": "ydN87bTsa9i2"
      },
      "execution_count": null,
      "outputs": []
    },
    {
      "cell_type": "code",
      "source": [
        "df.head()"
      ],
      "metadata": {
        "id": "xDjWhwcYZysv"
      },
      "execution_count": null,
      "outputs": []
    },
    {
      "cell_type": "code",
      "source": [
        "df.tail()"
      ],
      "metadata": {
        "id": "WPpqMQbSfpyi"
      },
      "execution_count": null,
      "outputs": []
    },
    {
      "cell_type": "code",
      "source": [
        "df.head(10)"
      ],
      "metadata": {
        "id": "dTHB4xFAbMyx"
      },
      "execution_count": null,
      "outputs": []
    },
    {
      "cell_type": "code",
      "source": [
        "df.tail(15)"
      ],
      "metadata": {
        "id": "ZAG05v6Ofw1K"
      },
      "execution_count": null,
      "outputs": []
    },
    {
      "cell_type": "code",
      "source": [
        "# shape - возвращает кортеж с двумя элементами: количество строк и количество столбцов"
      ],
      "metadata": {
        "id": "aKDAgYbTbdxf"
      },
      "execution_count": null,
      "outputs": []
    },
    {
      "cell_type": "code",
      "source": [
        "df.shape"
      ],
      "metadata": {
        "id": "siXHKCoFbs6v"
      },
      "execution_count": null,
      "outputs": []
    },
    {
      "cell_type": "code",
      "source": [
        "df.shape[0] # кол-во строк"
      ],
      "metadata": {
        "id": "8Hm4GuybaIxG"
      },
      "execution_count": null,
      "outputs": []
    },
    {
      "cell_type": "code",
      "source": [
        "df.shape[1] # кол-во столбцов"
      ],
      "metadata": {
        "id": "uMI46vSwaI59"
      },
      "execution_count": null,
      "outputs": []
    },
    {
      "cell_type": "code",
      "source": [
        "# info() выводит общую информацию о DataFrame"
      ],
      "metadata": {
        "id": "9EWTVyljcKoH"
      },
      "execution_count": null,
      "outputs": []
    },
    {
      "cell_type": "code",
      "source": [
        "df.head().info()"
      ],
      "metadata": {
        "id": "qcNC6ibRaJDO"
      },
      "execution_count": null,
      "outputs": []
    },
    {
      "cell_type": "code",
      "source": [
        "# Дома, где кол-во людей от 0 до 500 (population):"
      ],
      "metadata": {
        "id": "XST8_d5zvXyF"
      },
      "execution_count": null,
      "outputs": []
    },
    {
      "cell_type": "code",
      "source": [
        "df[(df['population'] > 0) & (df['population'] <= 500)]"
      ],
      "metadata": {
        "id": "tNC-MfgtrN28"
      },
      "execution_count": null,
      "outputs": []
    },
    {
      "cell_type": "code",
      "source": [
        "df[(df['population'] > 0) & (df['population'] <= 500)].shape[0]"
      ],
      "metadata": {
        "id": "0X5JOqKUeH96"
      },
      "execution_count": null,
      "outputs": []
    },
    {
      "cell_type": "code",
      "source": [
        "df[(df['population'] > 0) & (df['population'] <= 500)].head(20)"
      ],
      "metadata": {
        "id": "iyBojW6udO7R"
      },
      "execution_count": null,
      "outputs": []
    },
    {
      "cell_type": "code",
      "source": [
        "df[(df['population'] > 0) & (df['population'] <= 500)].tail(20)"
      ],
      "metadata": {
        "id": "oEgq9cd6fYPi"
      },
      "execution_count": null,
      "outputs": []
    },
    {
      "cell_type": "code",
      "source": [
        "median_house_value_filter = df[(df['population'] > 0) & (df['population'] <= 500)]['median_house_value']"
      ],
      "metadata": {
        "id": "MR8vF3PquZ1G"
      },
      "execution_count": null,
      "outputs": []
    },
    {
      "cell_type": "code",
      "source": [
        "# Максимальное значение цены дома:"
      ],
      "metadata": {
        "id": "6zXJ41ACr3Wl"
      },
      "execution_count": null,
      "outputs": []
    },
    {
      "cell_type": "code",
      "source": [
        "median_house_value_filter.max()"
      ],
      "metadata": {
        "id": "m_tzG917sUcH",
        "colab": {
          "base_uri": "https://localhost:8080/"
        },
        "outputId": "bf81230d-93e3-4f44-c9c3-c11945f54ff2"
      },
      "execution_count": null,
      "outputs": [
        {
          "output_type": "execute_result",
          "data": {
            "text/plain": [
              "500001.0"
            ]
          },
          "metadata": {},
          "execution_count": 68
        }
      ]
    },
    {
      "cell_type": "code",
      "source": [
        "# Минимальное значение цены дома:"
      ],
      "metadata": {
        "id": "mC96vJrHsUfl"
      },
      "execution_count": null,
      "outputs": []
    },
    {
      "cell_type": "code",
      "source": [
        "median_house_value_filter.min()"
      ],
      "metadata": {
        "id": "JExr5sj8sUk1",
        "colab": {
          "base_uri": "https://localhost:8080/"
        },
        "outputId": "9f6c2b93-9651-48ac-cd1a-fb46fcbd66f8"
      },
      "execution_count": null,
      "outputs": [
        {
          "output_type": "execute_result",
          "data": {
            "text/plain": [
              "14999.0"
            ]
          },
          "metadata": {},
          "execution_count": 69
        }
      ]
    },
    {
      "cell_type": "code",
      "source": [
        "# Среднее значение цены дома:"
      ],
      "metadata": {
        "id": "vAluOPnJsuPd"
      },
      "execution_count": null,
      "outputs": []
    },
    {
      "cell_type": "code",
      "source": [
        "median_house_value_filter.mean()"
      ],
      "metadata": {
        "id": "ljG4Zk7UsUuX",
        "colab": {
          "base_uri": "https://localhost:8080/"
        },
        "outputId": "92c53dc1-6462-4a2d-ef03-670d12625c6d"
      },
      "execution_count": null,
      "outputs": [
        {
          "output_type": "execute_result",
          "data": {
            "text/plain": [
              "206799.95140186916"
            ]
          },
          "metadata": {},
          "execution_count": 70
        }
      ]
    },
    {
      "cell_type": "code",
      "source": [
        "# Медиана цены дома:"
      ],
      "metadata": {
        "id": "nKPePvBxtBNt"
      },
      "execution_count": null,
      "outputs": []
    },
    {
      "cell_type": "code",
      "source": [
        "median_house_value_filter.median()"
      ],
      "metadata": {
        "id": "ml9xnPeAtDGU",
        "colab": {
          "base_uri": "https://localhost:8080/"
        },
        "outputId": "992b201e-23b2-4a22-a2ac-caeb88464acb"
      },
      "execution_count": null,
      "outputs": [
        {
          "output_type": "execute_result",
          "data": {
            "text/plain": [
              "169500.0"
            ]
          },
          "metadata": {},
          "execution_count": 71
        }
      ]
    },
    {
      "cell_type": "code",
      "source": [
        "# Выводим информацию о цене домов, используя метод describe()."
      ],
      "metadata": {
        "id": "oW9LXhUqHrgF"
      },
      "execution_count": null,
      "outputs": []
    },
    {
      "cell_type": "code",
      "source": [
        "median_house_value_filter.describe()"
      ],
      "metadata": {
        "colab": {
          "base_uri": "https://localhost:8080/"
        },
        "id": "km4Mp-gnHrqE",
        "outputId": "a65db2a5-5c73-41a3-ec53-9e657ec008d3"
      },
      "execution_count": null,
      "outputs": [
        {
          "output_type": "execute_result",
          "data": {
            "text/plain": [
              "count      1605.000000\n",
              "mean     206799.951402\n",
              "std      131809.535969\n",
              "min       14999.000000\n",
              "25%      103300.000000\n",
              "50%      169500.000000\n",
              "75%      275000.000000\n",
              "max      500001.000000\n",
              "Name: median_house_value, dtype: float64"
            ]
          },
          "metadata": {},
          "execution_count": 72
        }
      ]
    },
    {
      "cell_type": "code",
      "source": [
        "median_house_value_filter.describe(include=[float])"
      ],
      "metadata": {
        "id": "QmXKlNmcHrtZ",
        "colab": {
          "base_uri": "https://localhost:8080/"
        },
        "outputId": "a845cb8f-7169-4b2f-ed3d-388a149eccd7"
      },
      "execution_count": null,
      "outputs": [
        {
          "output_type": "execute_result",
          "data": {
            "text/plain": [
              "count      1605.000000\n",
              "mean     206799.951402\n",
              "std      131809.535969\n",
              "min       14999.000000\n",
              "25%      103300.000000\n",
              "50%      169500.000000\n",
              "75%      275000.000000\n",
              "max      500001.000000\n",
              "Name: median_house_value, dtype: float64"
            ]
          },
          "metadata": {},
          "execution_count": 73
        }
      ]
    },
    {
      "cell_type": "code",
      "source": [
        "# Добавим вывод значений"
      ],
      "metadata": {
        "id": "A6hid5tT7TpX"
      },
      "execution_count": null,
      "outputs": []
    },
    {
      "cell_type": "code",
      "source": [
        "median_house_value_filter.describe(percentiles=[0.25, 0.5, 0.75, 0.8, 0.85, 0.9])"
      ],
      "metadata": {
        "colab": {
          "base_uri": "https://localhost:8080/"
        },
        "id": "IE-imBqSvbrP",
        "outputId": "2f83289c-6eef-4508-c9ee-91233c172fa5"
      },
      "execution_count": null,
      "outputs": [
        {
          "output_type": "execute_result",
          "data": {
            "text/plain": [
              "count      1605.000000\n",
              "mean     206799.951402\n",
              "std      131809.535969\n",
              "min       14999.000000\n",
              "25%      103300.000000\n",
              "50%      169500.000000\n",
              "75%      275000.000000\n",
              "80%      327640.000000\n",
              "85%      360640.000000\n",
              "90%      437800.000000\n",
              "max      500001.000000\n",
              "Name: median_house_value, dtype: float64"
            ]
          },
          "metadata": {},
          "execution_count": 74
        }
      ]
    },
    {
      "cell_type": "code",
      "source": [
        "# Вывод будет содержать только максимальное значение, минимальное значение, среднее и медиану цены домов."
      ],
      "metadata": {
        "id": "D0cH6xC47LoP"
      },
      "execution_count": null,
      "outputs": []
    },
    {
      "cell_type": "code",
      "source": [
        "median_house_value_filter.describe(include='float64')[['max', 'min', 'mean', '50%']]"
      ],
      "metadata": {
        "colab": {
          "base_uri": "https://localhost:8080/"
        },
        "id": "gZxN95t-xs8r",
        "outputId": "c33ac483-5e25-447f-cfdb-6c9b8851a1f0"
      },
      "execution_count": null,
      "outputs": [
        {
          "output_type": "execute_result",
          "data": {
            "text/plain": [
              "max     500001.000000\n",
              "min      14999.000000\n",
              "mean    206799.951402\n",
              "50%     169500.000000\n",
              "Name: median_house_value, dtype: float64"
            ]
          },
          "metadata": {},
          "execution_count": 79
        }
      ]
    },
    {
      "cell_type": "markdown",
      "source": [
        "**9.2[42]**: Работа в Google Colab.<br>Файл california_housing_train.csv, который находится в папке sample_data<br>\n",
        "Узнать какая максимальная households в зоне минимального значения population"
      ],
      "metadata": {
        "id": "ShB0RpXZxpRm"
      }
    },
    {
      "cell_type": "code",
      "source": [
        "# Вариант 1 - строго по условию - получение записей с минимальным значением population"
      ],
      "metadata": {
        "id": "0BhbXOgWyk1-"
      },
      "execution_count": null,
      "outputs": []
    },
    {
      "cell_type": "code",
      "source": [
        "df[df['population'] == df['population'].min()]"
      ],
      "metadata": {
        "id": "8bS-fx05ymWm"
      },
      "execution_count": null,
      "outputs": []
    },
    {
      "cell_type": "code",
      "source": [
        "min_population = df[df['population'] == df['population'].min()]"
      ],
      "metadata": {
        "id": "2LZFmKJzymaL"
      },
      "execution_count": null,
      "outputs": []
    },
    {
      "cell_type": "code",
      "source": [
        "# Получение максимального значения households в зоне минимального значения population"
      ],
      "metadata": {
        "id": "uN5S8Aifymf-"
      },
      "execution_count": null,
      "outputs": []
    },
    {
      "cell_type": "code",
      "source": [
        "min_population['households'].max()"
      ],
      "metadata": {
        "id": "C172qdUoymv2"
      },
      "execution_count": null,
      "outputs": []
    },
    {
      "cell_type": "code",
      "source": [
        "# Вариант 2 - из условия задачи 9.1[40] - Получение максимального значения households где кол-во людей от 0 до 500"
      ],
      "metadata": {
        "id": "sDTvL76yz4_v"
      },
      "execution_count": null,
      "outputs": []
    },
    {
      "cell_type": "code",
      "source": [
        "median_house_value_filter['households'].max()"
      ],
      "metadata": {
        "id": "-lJARuIoz5Iw"
      },
      "execution_count": null,
      "outputs": []
    }
  ]
}